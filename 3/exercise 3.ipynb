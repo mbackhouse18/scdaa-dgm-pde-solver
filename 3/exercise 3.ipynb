{
 "cells": [
  {
   "cell_type": "code",
   "execution_count": 1,
   "id": "8fe689a6",
   "metadata": {},
   "outputs": [],
   "source": [
    "# Libraries\n",
    "import torch \n",
    "import matplotlib.pyplot as plt\n",
    "import numpy as np\n",
    "import torch.nn as nn\n",
    "import torch.optim as optim\n",
    "from matplotlib import cm"
   ]
  },
  {
   "cell_type": "code",
   "execution_count": 2,
   "id": "c449e015",
   "metadata": {},
   "outputs": [],
   "source": [
    "class DGM_layer(nn.Module):\n",
    "    def __init__(self, in_features, out_feature, residual = False):\n",
    "        super(DGM_layer, self).__init__()\n",
    "        self.residual = residual\n",
    "        \n",
    "        self.Z = nn.Linear(out_feature, out_feature); self.UZ = nn.Linear(in_features, out_feature, bias = False)\n",
    "        self.G = nn.Linear(out_feature, out_feature); self.UG = nn.Linear(in_features, out_feature, bias = False)\n",
    "        self.R = nn.Linear(out_feature, out_feature); self.UR = nn.Linear(in_features, out_feature, bias = False)\n",
    "        self.H = nn.Linear(out_feature, out_feature); self.UH = nn.Linear(in_features, out_feature, bias = False)\n",
    "        \n",
    "    def forward(self, x, s):\n",
    "        z = torch.tanh(self.UZ(x)+self.Z(s))\n",
    "        g = torch.tanh(self.UG(x)+self.G(s))\n",
    "        r = torch.tanh(self.UR(x)+self.R(s))\n",
    "        h = torch.tanh(self.UH(x)+self.H(s))\n",
    "        return (1-g)*h+z*s        "
   ]
  },
  {
   "cell_type": "code",
   "execution_count": 3,
   "id": "1e0edcc5",
   "metadata": {},
   "outputs": [],
   "source": [
    "class DGM_net(nn.Module):\n",
    "    def __init__(self, in_dim, out_dim, n_layers, n_neurons, residual = False): \n",
    "        '''\n",
    "        in_dim: number of cordinates\n",
    "        out_dim: number of the output\n",
    "        make residual = true for identity between each DGM layers \n",
    "        '''\n",
    "        super(DGM_net, self).__init__()\n",
    "        self.in_dim = in_dim\n",
    "        self.out_dim = out_dim\n",
    "        self.n_layers = n_layers\n",
    "        self.n_neurons = n_neurons\n",
    "        self.residual = residual\n",
    "    \n",
    "        self.input_layer = nn.Linear(in_dim, n_neurons)\n",
    "        self.dgm_layers = nn.ModuleList([DGM_layer(self.in_dim, self.n_neurons, \n",
    "                                               self.residual) for i in range(self.n_layers)])\n",
    "        self.output_layer = nn.Linear(n_neurons, out_dim)\n",
    "    \n",
    "    def forward(self, x):\n",
    "        s = torch.tanh(self.input_layer(x))\n",
    "        for i, dgm_layer in enumerate(self.dgm_layers):\n",
    "            s = dgm_layer(x, s)\n",
    "            \n",
    "        return self.output_layer(s)"
   ]
  },
  {
   "cell_type": "code",
   "execution_count": 4,
   "id": "6a45eac9",
   "metadata": {},
   "outputs": [],
   "source": [
    "class Bellman_pde():\n",
    "    '''\n",
    "    Approximating the Bellman PDE on [0,T]*[x1_l,x1_r]*[x2_l,x2_r]\n",
    "    '''\n",
    "    def __init__(self, net, x_interval, y_interval, H, M, C, D, R, T, sigma, a):\n",
    "        self.net = net \n",
    "        self.x1_l = x_interval[0].item() # torch tensor, dim = 3\n",
    "        self.x1_r = x_interval[1].item()\n",
    "        self.x2_l = y_interval[0].item()\n",
    "        self.x2_r = y_interval[1].item()\n",
    "        self.H = H # H, M, C, D, R: torch tensors, dim = 2*2\n",
    "        self.M = M \n",
    "        self.C = C \n",
    "        self.D = D \n",
    "        self.R = R         \n",
    "        self.T = T # integer\n",
    "        self.sigma = sigma # sigma, a: torch tensors, dim = 1*2\n",
    "        self.a = a \n",
    "        \n",
    "    def sample(self, size):\n",
    "        # Sampling\n",
    "        #te  = self.ts[0].item()    \n",
    "        #x1e = self.ts[1].item()\n",
    "        #x2e = self.ts[2].item()\n",
    "        \n",
    "        t_x = torch.cat((torch.rand([size, 1])*self.T, (self.x1_l - self.x1_r) * torch.rand([size, 1]) + self.x1_r, (self.x2_l - self.x2_r) * torch.rand([size, 1]) + self.x2_r), dim=1)\n",
    "        # samples = [[t,x1,x2],\n",
    "        #            [t,x1,x2],\n",
    "        #               ...\n",
    "        #            [t,x1,x2]]\n",
    "        \n",
    "        x_boundary = torch.cat((torch.ones(size, 1)*self.T, (self.x1_l - self.x1_r) * torch.rand([size, 1]) + self.x1_r, (self.x2_l - self.x2_r) * torch.rand([size, 1]) + self.x2_r), dim=1)\n",
    "        # samples = [[T,x1,x2],\n",
    "        #            [T,x1,x2],\n",
    "        #              ...\n",
    "        #            [T,x1,x2]]\n",
    "        \n",
    "        return t_x, x_boundary\n",
    "    \n",
    "    def mat_ext(self, mat, size):\n",
    "        if mat.shape == torch.Size([2, 2]):\n",
    "            return mat.unsqueeze(0).repeat(size,1,1)\n",
    "        elif mat.shape == torch.Size([1, 2]):\n",
    "            return mat.t().unsqueeze(0).repeat(size,1,1)\n",
    "        \n",
    "    def get_hes_space(self, grad_x, x):\n",
    "        hessian = torch.zeros(len(x),2,2)\n",
    "        dxx = torch.autograd.grad(grad_x[0][:,1], x, grad_outputs=torch.ones_like(grad_x[0][:,1]), allow_unused=True, retain_graph=True)[0][:,1]\n",
    "        dxy = torch.autograd.grad(grad_x[0][:,1], x, grad_outputs=torch.ones_like(grad_x[0][:,1]), allow_unused=True, retain_graph=True)[0][:,2]\n",
    "        dyx = torch.autograd.grad(grad_x[0][:,2], x, grad_outputs=torch.ones_like(grad_x[0][:,2]), allow_unused=True, retain_graph=True)[0][:,1]\n",
    "        dyy = torch.autograd.grad(grad_x[0][:,2], x, grad_outputs=torch.ones_like(grad_x[0][:,2]), allow_unused=True, retain_graph=True)[0][:,2]\n",
    "        hessian[:,0,0] = dxx \n",
    "        hessian[:,0,1] = dxy\n",
    "        hessian[:,1,0] = dyx\n",
    "        hessian[:,1,1] = dyy\n",
    "        return hessian  \n",
    "        \n",
    "        \n",
    "    def loss_func(self, size):\n",
    "        \n",
    "        loss = nn.MSELoss() # MSE \n",
    "        \n",
    "        # Extend the input matrices\n",
    "        H = self.mat_ext(self.H, size) # H, M, C, D, R: dim = batchsize*2*2\n",
    "        M = self.mat_ext(self.M, size)\n",
    "        C = self.mat_ext(self.C, size)\n",
    "        D = self.mat_ext(self.D, size)\n",
    "        R = self.mat_ext(self.R, size)\n",
    "        # a = self.mat_ext(self.a, size) # control: dim = batchsize*2*1           \n",
    "        T = self.T\n",
    "        sig = self.sigma.t() # dim = 2*1        \n",
    "        a = self.a \n",
    "            \n",
    "        x, x_boundary = self.sample(size=size)\n",
    "        x = x.requires_grad_(True) # Track gradients during automatic differentiation\n",
    "\n",
    "        # 1st order derivatives\n",
    "        grad = torch.autograd.grad(self.net(x), x, grad_outputs=torch.ones_like(self.net(x)), create_graph=True)\n",
    "        \n",
    "        du_dt = grad[0][:,0].reshape(-1, 1)  # derivative w.r.t. time, dim = batchsize*1\n",
    "        # du/dt = [[u_t]\n",
    "        #          [u_t]\n",
    "        #           ...\n",
    "        #          [u_t]]  \n",
    "        \n",
    "        du_dx = grad[0][:,1:] # derivative w.r.t. space, dim = batchsize*2 \n",
    "        # du/dx = [[u_x, u_y]\n",
    "        #          [u_x, u_y]\n",
    "        #              ...\n",
    "        #          [u_x, u_y]] \n",
    "                \n",
    "        # Hessian matrix\n",
    "        #hessian = torch.zeros(size, 2, 2) # dim = batchsize*2*2\n",
    "        #d2u_dx2 = torch.autograd.grad(du_dx[:, 0], x, grad_outputs=torch.ones_like(du_dx[:, 0]), retain_graph=True)[0][:, 1]\n",
    "        #d2u_dy2 = torch.autograd.grad(du_dx[:, 1], x, grad_outputs=torch.ones_like(du_dx[:, 1]), retain_graph=True)[0][:, 2]\n",
    "        #d2u_dxdy = torch.autograd.grad(du_dx[:, 0], x, grad_outputs=torch.ones_like(du_dx[:, 0]), retain_graph=True)[0][:, 2]\n",
    "        #d2u_dydx = torch.autograd.grad(du_dx[:, 1], x, grad_outputs=torch.ones_like(du_dx[:, 1]), retain_graph=True)[0][:, 1]\n",
    "        #hessian[:, 0, 0] = d2u_dx2\n",
    "        #hessian[:, 1, 1] = d2u_dy2\n",
    "        #hessian[:, 0, 1] = d2u_dxdy\n",
    "        #hessian[:, 1, 0] = d2u_dydx\n",
    "        # Hessian = [[[u_xx, u_xy],\n",
    "        #             [u_yx, u_yy]],\n",
    "        #            [[u_xx, u_xy],\n",
    "        #             [u_yx, u_yy]],\n",
    "        #                  ...     \n",
    "        #            [[u_xx, u_xy],\n",
    "        #             [u_yx, u_yy]]] \n",
    "        hessian = self.get_hes_space(grad,x)\n",
    "        \n",
    "        # Error from the pde\n",
    "        sig2_ext = self.mat_ext(torch.matmul(sig,sig.t()), size) # dim = batchsize*2*2\n",
    "        prod = torch.bmm(sig2_ext,hessian) # sigma*sigma^T*2nd derivatives\n",
    "        trace = torch.diagonal(prod, dim1=1, dim2=2).sum(dim=1).unsqueeze(0).t() # trace, dim = batchsize*1\n",
    "        x_space = x[:,1:].unsqueeze(1).reshape(size,2,1) # extract (x1,x2)^T, dim = batchsize*2*1\n",
    "        x_space_t = x_space.reshape(size,1,2) # dim = batchsize*1*2\n",
    "        du_dx_ext_t = du_dx.unsqueeze(1) # dim=batchsize*1*2\n",
    "        \n",
    "        pde = du_dt+0.5*trace+torch.bmm(du_dx_ext_t,torch.bmm(H,x_space)).squeeze(1)\\\n",
    "                +torch.bmm(du_dx_ext_t,torch.bmm(M,a)).squeeze(1)\\\n",
    "                +torch.bmm(x_space_t,torch.bmm(C,x_space)).squeeze(1)\\\n",
    "                +torch.bmm(a.reshape(size,1,2),torch.bmm(D,a)).squeeze(1) # dim = batchsize*1\n",
    "        \n",
    "        pde_err = loss(pde, torch.zeros(size,1))\n",
    "        \n",
    "        # Error from the boundary condition\n",
    "        x_bound = x_boundary[:,1:].unsqueeze(1).reshape(size,2,1) # extract (x1,x2)^T, dim = batchsize*2*1\n",
    "        x_bound_t = x_bound.reshape(size,1,2) # dim = batchsize*1*2\n",
    "        # boundary = self.net(x_boundary)-torch.bmm(x_bound_t,torch.bmm(R,x_bound)).squeeze(1) # dim = batchsize*1\n",
    "        \n",
    "        boundary_err = loss(self.net(x_boundary), torch.bmm(x_bound_t,torch.bmm(R,x_bound)).squeeze(1))\n",
    "        \n",
    "        return pde_err + boundary_err"
   ]
  },
  {
   "cell_type": "code",
   "execution_count": 5,
   "id": "e1bdae21",
   "metadata": {},
   "outputs": [],
   "source": [
    "class Train():\n",
    "    def __init__(self, net, PDE, BATCH_SIZE):\n",
    "        self.errors = []\n",
    "        self.BATCH_SIZE = BATCH_SIZE\n",
    "        self.net = net\n",
    "        self.model = PDE\n",
    "\n",
    "    def train(self, epoch, lr):\n",
    "        optimizer = optim.Adam(self.net.parameters(), lr) # Import the parameters, lr: learning rate\n",
    "        avg_loss = 0\n",
    "        for e in range(epoch):\n",
    "            optimizer.zero_grad()\n",
    "            loss = self.model.loss_func(self.BATCH_SIZE)\n",
    "            avg_loss = avg_loss + float(loss.item())\n",
    "            loss.backward()\n",
    "            optimizer.step()\n",
    "            if e % 100 == 99:\n",
    "                loss = avg_loss/100\n",
    "                print(\"epoch {} - lr {} - loss: {}\".format(e, lr, loss))\n",
    "                avg_loss = 0\n",
    "\n",
    "                error = self.model.loss_func(self.BATCH_SIZE)\n",
    "                self.errors.append(error.detach())\n",
    "\n",
    "    def get_errors(self):\n",
    "        return self.errors"
   ]
  },
  {
   "cell_type": "code",
   "execution_count": 12,
   "id": "0ec306bf",
   "metadata": {},
   "outputs": [],
   "source": [
    "# Initializing the classes\n",
    "net = DGM_net(in_dim = 3, out_dim = 1, n_layers = 3, n_neurons = 50)\n",
    "x = torch.tensor([1,4])\n",
    "y = torch.tensor([1,4])\n",
    "H = torch.tensor([[1.0,0],[0,1.0]])\n",
    "M = torch.tensor([[1.0,0],[0,1.0]])\n",
    "D = torch.tensor([[0.1,0],[0,0.1]])\n",
    "C = torch.tensor([[0.1,0],[0,0.1]])\n",
    "R = torch.tensor([[1.0,0],[0,1.0]])\n",
    "batch_size = 2**10\n",
    "T = 1\n",
    "sigma = torch.tensor([[0.05, 0.05]])\n",
    "#a = torch.tensor([[1.0, 1.0]])\n",
    "a = torch.randn(batch_size, 2, 1)\n",
    "Bellman = Bellman_pde(net, x, y, H, M, C, D, R, T, sigma, a)"
   ]
  },
  {
   "cell_type": "code",
   "execution_count": 13,
   "id": "142f114e",
   "metadata": {
    "scrolled": true
   },
   "outputs": [
    {
     "name": "stdout",
     "output_type": "stream",
     "text": [
      "epoch 99 - lr 0.0001 - loss: 180.22359893798827\n",
      "epoch 199 - lr 0.0001 - loss: 64.92841625213623\n",
      "epoch 299 - lr 0.0001 - loss: 36.423268451690674\n",
      "epoch 399 - lr 0.0001 - loss: 25.75849847793579\n",
      "epoch 499 - lr 0.0001 - loss: 19.843360233306885\n",
      "epoch 599 - lr 0.0001 - loss: 18.036410751342775\n",
      "epoch 699 - lr 0.0001 - loss: 17.09910708427429\n",
      "epoch 799 - lr 0.0001 - loss: 16.891915006637575\n",
      "epoch 899 - lr 0.0001 - loss: 16.566246976852415\n",
      "epoch 999 - lr 0.0001 - loss: 16.403005514144898\n",
      "epoch 1099 - lr 0.0001 - loss: 16.46330973625183\n",
      "epoch 1199 - lr 0.0001 - loss: 16.643774299621583\n",
      "epoch 1299 - lr 0.0001 - loss: 16.426201114654543\n",
      "epoch 1399 - lr 0.0001 - loss: 16.0822864818573\n",
      "epoch 1499 - lr 0.0001 - loss: 16.036085290908815\n",
      "epoch 1599 - lr 0.0001 - loss: 16.428758392333986\n",
      "epoch 1699 - lr 0.0001 - loss: 16.18196960449219\n",
      "epoch 1799 - lr 0.0001 - loss: 16.014651737213136\n",
      "epoch 1899 - lr 0.0001 - loss: 16.032386436462403\n",
      "epoch 1999 - lr 0.0001 - loss: 16.044033660888672\n",
      "epoch 2099 - lr 0.0001 - loss: 15.94534773826599\n",
      "epoch 2199 - lr 0.0001 - loss: 15.911960744857788\n",
      "epoch 2299 - lr 0.0001 - loss: 16.044979047775268\n",
      "epoch 2399 - lr 0.0001 - loss: 15.499952020645141\n",
      "epoch 2499 - lr 0.0001 - loss: 15.48533730506897\n",
      "epoch 2599 - lr 0.0001 - loss: 15.679887266159058\n",
      "epoch 2699 - lr 0.0001 - loss: 15.989287462234497\n",
      "epoch 2799 - lr 0.0001 - loss: 15.798270177841186\n",
      "epoch 2899 - lr 0.0001 - loss: 15.813781785964967\n",
      "epoch 2999 - lr 0.0001 - loss: 15.759085559844971\n",
      "epoch 3099 - lr 0.0001 - loss: 15.740670909881592\n",
      "epoch 3199 - lr 0.0001 - loss: 15.66875898361206\n",
      "epoch 3299 - lr 0.0001 - loss: 15.773084144592286\n",
      "epoch 3399 - lr 0.0001 - loss: 15.866565036773682\n",
      "epoch 3499 - lr 0.0001 - loss: 15.802046308517456\n",
      "epoch 3599 - lr 0.0001 - loss: 15.630999946594239\n",
      "epoch 3699 - lr 0.0001 - loss: 15.699421091079712\n",
      "epoch 3799 - lr 0.0001 - loss: 15.64252818107605\n",
      "epoch 3899 - lr 0.0001 - loss: 15.378247117996215\n",
      "epoch 3999 - lr 0.0001 - loss: 15.239139022827148\n",
      "epoch 4099 - lr 0.0001 - loss: 15.873833665847778\n",
      "epoch 4199 - lr 0.0001 - loss: 15.739362869262695\n",
      "epoch 4299 - lr 0.0001 - loss: 15.402226953506469\n",
      "epoch 4399 - lr 0.0001 - loss: 15.548913097381591\n",
      "epoch 4499 - lr 0.0001 - loss: 15.142317113876343\n",
      "epoch 4599 - lr 0.0001 - loss: 15.323010149002075\n",
      "epoch 4699 - lr 0.0001 - loss: 15.193903474807739\n",
      "epoch 4799 - lr 0.0001 - loss: 15.133557262420654\n",
      "epoch 4899 - lr 0.0001 - loss: 15.438386764526367\n",
      "epoch 4999 - lr 0.0001 - loss: 15.293381404876708\n",
      "epoch 5099 - lr 0.0001 - loss: 15.473072881698608\n",
      "epoch 5199 - lr 0.0001 - loss: 15.448703031539917\n",
      "epoch 5299 - lr 0.0001 - loss: 15.387412815093994\n",
      "epoch 5399 - lr 0.0001 - loss: 15.494025430679322\n",
      "epoch 5499 - lr 0.0001 - loss: 15.810280199050903\n",
      "epoch 5599 - lr 0.0001 - loss: 15.517096519470215\n",
      "epoch 5699 - lr 0.0001 - loss: 15.398790559768678\n",
      "epoch 5799 - lr 0.0001 - loss: 15.709462251663208\n",
      "epoch 5899 - lr 0.0001 - loss: 15.48342734336853\n",
      "epoch 5999 - lr 0.0001 - loss: 15.182294960021972\n",
      "epoch 6099 - lr 0.0001 - loss: 15.382403755187989\n",
      "epoch 6199 - lr 0.0001 - loss: 15.350410108566285\n",
      "epoch 6299 - lr 0.0001 - loss: 15.52742109298706\n",
      "epoch 6399 - lr 0.0001 - loss: 15.449983873367309\n",
      "epoch 6499 - lr 0.0001 - loss: 15.327478933334351\n",
      "epoch 6599 - lr 0.0001 - loss: 15.284729194641113\n",
      "epoch 6699 - lr 0.0001 - loss: 15.29529935836792\n",
      "epoch 6799 - lr 0.0001 - loss: 15.13096474647522\n",
      "epoch 6899 - lr 0.0001 - loss: 15.328078393936158\n",
      "epoch 6999 - lr 0.0001 - loss: 15.483364839553833\n",
      "epoch 7099 - lr 0.0001 - loss: 15.290650939941406\n",
      "epoch 7199 - lr 0.0001 - loss: 15.402201900482178\n",
      "epoch 7299 - lr 0.0001 - loss: 15.246590042114258\n",
      "epoch 7399 - lr 0.0001 - loss: 15.296726846694947\n",
      "epoch 7499 - lr 0.0001 - loss: 15.25557011604309\n",
      "epoch 7599 - lr 0.0001 - loss: 15.119118251800536\n",
      "epoch 7699 - lr 0.0001 - loss: 15.405061960220337\n",
      "epoch 7799 - lr 0.0001 - loss: 15.233385934829712\n",
      "epoch 7899 - lr 0.0001 - loss: 15.60092806816101\n",
      "epoch 7999 - lr 0.0001 - loss: 15.071091480255127\n",
      "epoch 8099 - lr 0.0001 - loss: 15.30612078666687\n",
      "epoch 8199 - lr 0.0001 - loss: 15.434659547805786\n",
      "epoch 8299 - lr 0.0001 - loss: 15.330445289611816\n",
      "epoch 8399 - lr 0.0001 - loss: 15.40464147567749\n",
      "epoch 8499 - lr 0.0001 - loss: 15.546585893630981\n",
      "epoch 8599 - lr 0.0001 - loss: 15.674633340835571\n",
      "epoch 8699 - lr 0.0001 - loss: 15.381250514984131\n",
      "epoch 8799 - lr 0.0001 - loss: 15.267444324493407\n",
      "epoch 8899 - lr 0.0001 - loss: 15.254065141677856\n",
      "epoch 8999 - lr 0.0001 - loss: 15.470466566085815\n",
      "epoch 9099 - lr 0.0001 - loss: 15.626108083724976\n",
      "epoch 9199 - lr 0.0001 - loss: 15.441028861999511\n",
      "epoch 9299 - lr 0.0001 - loss: 15.143590469360351\n",
      "epoch 9399 - lr 0.0001 - loss: 15.324449090957641\n",
      "epoch 9499 - lr 0.0001 - loss: 15.189332361221313\n",
      "epoch 9599 - lr 0.0001 - loss: 15.541830673217774\n",
      "epoch 9699 - lr 0.0001 - loss: 15.152090511322022\n",
      "epoch 9799 - lr 0.0001 - loss: 14.997529830932617\n",
      "epoch 9899 - lr 0.0001 - loss: 15.343686313629151\n",
      "epoch 9999 - lr 0.0001 - loss: 15.272161474227905\n"
     ]
    }
   ],
   "source": [
    "# Training\n",
    "train = Train(net, Bellman, BATCH_SIZE=batch_size)\n",
    "train.train(epoch=10**4, lr=0.0001)\n",
    "torch.save(net, 'net_model.pkl')\n",
    "errors = train.get_errors()"
   ]
  },
  {
   "cell_type": "code",
   "execution_count": 14,
   "id": "c643a7d3",
   "metadata": {
    "scrolled": true
   },
   "outputs": [
    {
     "data": {
      "image/png": "[encoded data removed]",
      "text/plain": [
       "<Figure size 640x480 with 1 Axes>"
      ]
     },
     "metadata": {},
     "output_type": "display_data"
    }
   ],
   "source": [
    "# Plot errors\n",
    "fig = plt.figure()\n",
    "plt.plot(np.log10(errors), color = 'dodgerblue', label='Errors')\n",
    "plt.title('Training Loss', fontsize=10)\n",
    "plt.xlabel('Number of training epochs')\n",
    "plt.ylabel('Loss (log)')\n",
    "plt.show()"
   ]
  },
  {
   "cell_type": "code",
   "execution_count": 15,
   "id": "1fcd07eb",
   "metadata": {
    "scrolled": true
   },
   "outputs": [
    {
     "name": "stdout",
     "output_type": "stream",
     "text": [
      "[[18.743198 ]\n",
      " [ 4.0894876]]\n"
     ]
    }
   ],
   "source": [
    "net = torch.load('net_model.pkl')\n",
    "ind = torch.Tensor([[0.5,3,2],[1,1,1]])\n",
    "Zda = net(ind).detach().cpu().numpy()\n",
    "print(Zda)"
   ]
  },
  {
   "cell_type": "code",
   "execution_count": 10,
   "id": "b0950917",
   "metadata": {},
   "outputs": [],
   "source": [
    "import scipy.integrate as integrate\n",
    "import math\n",
    "def integrand(t):\n",
    "    res = 1/10*((10*(2**(1/2))+11)*math.exp(2*(2**(1/2))*(1-t))+10*2**(1/2)-11)\\\n",
    "           /((2**(1/2)+9)*math.exp(2*(2**(1/2))*(1-t))+2**(1/2)-9)\n",
    "    return res\n",
    "result = integrate.quad(lambda x: integrand(x), 0.5, 1.0)"
   ]
  },
  {
   "cell_type": "code",
   "execution_count": 11,
   "id": "808a3532",
   "metadata": {},
   "outputs": [
    {
     "name": "stdout",
     "output_type": "stream",
     "text": [
      "(0.2315651635082677, 1.6141170912431694e-09)\n"
     ]
    }
   ],
   "source": [
    "print(result)"
   ]
  },
  {
   "cell_type": "code",
   "execution_count": 12,
   "id": "30b2971a",
   "metadata": {},
   "outputs": [
    {
     "name": "stdout",
     "output_type": "stream",
     "text": [
      "0.2806147275379891\n"
     ]
    }
   ],
   "source": [
    "print(integrand(0.5)*(0.5**2+0.8**2)+0.05*result[0])"
   ]
  },
  {
   "cell_type": "code",
   "execution_count": 13,
   "id": "8c45fd62",
   "metadata": {},
   "outputs": [],
   "source": [
    "def value_analytical(x):\n",
    "    val = torch.zeros(len(x),1)\n",
    "    for i in range(len(x)):\n",
    "        val[i] = integrand(x[i,0])*(x[i,1]**2+x[i,2]**2)+0.05*integrate.quad(lambda r: integrand(r), x[i,0].item(), 1.0)[0]\n",
    "    return val"
   ]
  },
  {
   "cell_type": "code",
   "execution_count": 14,
   "id": "52d7950c",
   "metadata": {},
   "outputs": [
    {
     "name": "stdout",
     "output_type": "stream",
     "text": [
      "tensor([[0.2806],\n",
      "        [2.0000]])\n"
     ]
    }
   ],
   "source": [
    "print(value_analytical(torch.Tensor([[0.5,0.5,0.8],[1,1,1]])))"
   ]
  }
 ],
 "metadata": {
  "kernelspec": {
   "display_name": "Python 3.9.16 ('scdaa')",
   "language": "python",
   "name": "python3"
  },
  "language_info": {
   "codemirror_mode": {
    "name": "ipython",
    "version": 3
   },
   "file_extension": ".py",
   "mimetype": "text/x-python",
   "name": "python",
   "nbconvert_exporter": "python",
   "pygments_lexer": "ipython3",
   "version": "3.9.16"
  },
  "vscode": {
   "interpreter": {
    "hash": "6f442474ecb6cb4d47a45fad352f0260b3613c1f0ac045025b6964e2c7f48e00"
   }
  }
 },
 "nbformat": 4,
 "nbformat_minor": 5
}
