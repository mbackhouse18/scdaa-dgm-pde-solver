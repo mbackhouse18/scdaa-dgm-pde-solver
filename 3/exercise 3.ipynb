{
 "cells": [
  {
   "cell_type": "code",
   "execution_count": 2,
   "id": "8fe689a6",
   "metadata": {},
   "outputs": [],
   "source": [
    "# Libraries\n",
    "import torch \n",
    "import matplotlib.pyplot as plt\n",
    "import numpy as np\n",
    "import torch.nn as nn\n",
    "import torch.optim as optim\n",
    "from matplotlib import cm"
   ]
  },
  {
   "cell_type": "code",
   "execution_count": 3,
   "id": "c449e015",
   "metadata": {},
   "outputs": [],
   "source": [
    "class DGM_layer(nn.Module):\n",
    "    def __init__(self, in_features, out_feature, residual = False):\n",
    "        super(DGM_layer, self).__init__()\n",
    "        self.residual = residual\n",
    "        \n",
    "        self.Z = nn.Linear(out_feature, out_feature); self.UZ = nn.Linear(in_features, out_feature, bias = False)\n",
    "        self.G = nn.Linear(out_feature, out_feature); self.UG = nn.Linear(in_features, out_feature, bias = False)\n",
    "        self.R = nn.Linear(out_feature, out_feature); self.UR = nn.Linear(in_features, out_feature, bias = False)\n",
    "        self.H = nn.Linear(out_feature, out_feature); self.UH = nn.Linear(in_features, out_feature, bias = False)\n",
    "        \n",
    "    def forward(self, x, s):\n",
    "        z = torch.tanh(self.UZ(x)+self.Z(s))\n",
    "        g = torch.tanh(self.UG(x)+self.G(s))\n",
    "        r = torch.tanh(self.UR(x)+self.R(s))\n",
    "        h = torch.tanh(self.UH(x)+self.H(s))\n",
    "        return (1-g)*h+z*s        "
   ]
  },
  {
   "cell_type": "code",
   "execution_count": 4,
   "id": "1e0edcc5",
   "metadata": {},
   "outputs": [],
   "source": [
    "class DGM_net(nn.Module):\n",
    "    def __init__(self, in_dim, out_dim, n_layers, n_neurons, residual = False): \n",
    "        '''\n",
    "        in_dim: number of cordinates\n",
    "        out_dim: number of the output\n",
    "        make residual = true for identity between each DGM layers \n",
    "        '''\n",
    "        super(DGM_net, self).__init__()\n",
    "        self.in_dim = in_dim\n",
    "        self.out_dim = out_dim\n",
    "        self.n_layers = n_layers\n",
    "        self.n_neurons = n_neurons\n",
    "        self.residual = residual\n",
    "    \n",
    "        self.input_layer = nn.Linear(in_dim, n_neurons)\n",
    "        self.dgm_layers = nn.ModuleList([DGM_layer(self.in_dim, self.n_neurons, \n",
    "                                               self.residual) for i in range(self.n_layers)])\n",
    "        self.output_layer = nn.Linear(n_neurons, out_dim)\n",
    "    \n",
    "    def forward(self, x):\n",
    "        s = torch.tanh(self.input_layer(x))\n",
    "        for i, dgm_layer in enumerate(self.dgm_layers):\n",
    "            s = dgm_layer(x, s)\n",
    "            \n",
    "        return self.output_layer(s)"
   ]
  },
  {
   "cell_type": "code",
   "execution_count": 5,
   "id": "6a45eac9",
   "metadata": {},
   "outputs": [],
   "source": [
    "class Bellman_pde():\n",
    "    '''\n",
    "    Approximating the Bellman PDE on [0,T]*[x1_l,x1_r]*[x2_l,x2_r]\n",
    "    '''\n",
    "    def __init__(self, net, x_interval, y_interval, H, M, C, D, R, T, sigma, a):\n",
    "        self.net = net \n",
    "        self.x1_l = x_interval[0].item() # torch tensor, dim = 3\n",
    "        self.x1_r = x_interval[1].item()\n",
    "        self.x2_l = y_interval[0].item()\n",
    "        self.x2_r = y_interval[1].item()\n",
    "        self.H = H # H, M, C, D, R: torch tensors, dim = 2*2\n",
    "        self.M = M \n",
    "        self.C = C \n",
    "        self.D = D \n",
    "        self.R = R         \n",
    "        self.T = T # integer\n",
    "        self.sigma = sigma # sigma, a: torch tensors, dim = 1*2\n",
    "        self.a = a \n",
    "        \n",
    "    def sample(self, size):\n",
    "        # Sampling\n",
    "        #te  = self.ts[0].item()    \n",
    "        #x1e = self.ts[1].item()\n",
    "        #x2e = self.ts[2].item()\n",
    "        \n",
    "        t_x = torch.cat((torch.rand([size, 1])*self.T, (self.x1_l - self.x1_r) * torch.rand([size, 1]) + self.x1_r, (self.x2_l - self.x2_r) * torch.rand([size, 1]) + self.x2_r), dim=1)\n",
    "        # samples = [[t,x1,x2],\n",
    "        #            [t,x1,x2],\n",
    "        #               ...\n",
    "        #            [t,x1,x2]]\n",
    "        \n",
    "        x_boundary = torch.cat((torch.ones(size, 1)*self.T, (self.x1_l - self.x1_r) * torch.rand([size, 1]) + self.x1_r, (self.x2_l - self.x2_r) * torch.rand([size, 1]) + self.x2_r), dim=1)\n",
    "        # samples = [[T,x1,x2],\n",
    "        #            [T,x1,x2],\n",
    "        #              ...\n",
    "        #            [T,x1,x2]]\n",
    "        \n",
    "        return t_x, x_boundary\n",
    "    \n",
    "    def mat_ext(self, mat, size):\n",
    "        if mat.shape == torch.Size([2, 2]):\n",
    "            return mat.unsqueeze(0).repeat(size,1,1)\n",
    "        elif mat.shape == torch.Size([1, 2]):\n",
    "            return mat.t().unsqueeze(0).repeat(size,1,1)\n",
    "        \n",
    "    def get_hes_space(self, grad_x, x):\n",
    "        hessian = torch.zeros(len(x),2,2)\n",
    "        dxx = torch.autograd.grad(grad_x[0][:,1], x, grad_outputs=torch.ones_like(grad_x[0][:,1]), allow_unused=True, retain_graph=True)[0][:,1]\n",
    "        dxy = torch.autograd.grad(grad_x[0][:,1], x, grad_outputs=torch.ones_like(grad_x[0][:,1]), allow_unused=True, retain_graph=True)[0][:,2]\n",
    "        dyx = torch.autograd.grad(grad_x[0][:,2], x, grad_outputs=torch.ones_like(grad_x[0][:,2]), allow_unused=True, retain_graph=True)[0][:,1]\n",
    "        dyy = torch.autograd.grad(grad_x[0][:,2], x, grad_outputs=torch.ones_like(grad_x[0][:,2]), allow_unused=True, retain_graph=True)[0][:,2]\n",
    "        hessian[:,0,0] = dxx \n",
    "        hessian[:,0,1] = dxy\n",
    "        hessian[:,1,0] = dyx\n",
    "        hessian[:,1,1] = dyy\n",
    "        return hessian  \n",
    "        \n",
    "        \n",
    "    def loss_func(self, size):\n",
    "        \n",
    "        loss = nn.MSELoss() # MSE \n",
    "        \n",
    "        # Extend the input matrices\n",
    "        H = self.mat_ext(self.H, size) # H, M, C, D, R: dim = batchsize*2*2\n",
    "        M = self.mat_ext(self.M, size)\n",
    "        C = self.mat_ext(self.C, size)\n",
    "        D = self.mat_ext(self.D, size)\n",
    "        R = self.mat_ext(self.R, size)\n",
    "        # a = self.mat_ext(self.a, size) # control: dim = batchsize*2*1           \n",
    "        T = self.T\n",
    "        sig = self.sigma.t() # dim = 2*1        \n",
    "        a = self.a \n",
    "            \n",
    "        x, x_boundary = self.sample(size=size)\n",
    "        x = x.requires_grad_(True) # Track gradients during automatic differentiation\n",
    "\n",
    "        # 1st order derivatives\n",
    "        grad = torch.autograd.grad(self.net(x), x, grad_outputs=torch.ones_like(self.net(x)), create_graph=True)\n",
    "        \n",
    "        du_dt = grad[0][:,0].reshape(-1, 1)  # derivative w.r.t. time, dim = batchsize*1\n",
    "        # du/dt = [[u_t]\n",
    "        #          [u_t]\n",
    "        #           ...\n",
    "        #          [u_t]]  \n",
    "        \n",
    "        du_dx = grad[0][:,1:] # derivative w.r.t. space, dim = batchsize*2 \n",
    "        # du/dx = [[u_x, u_y]\n",
    "        #          [u_x, u_y]\n",
    "        #              ...\n",
    "        #          [u_x, u_y]] \n",
    "                \n",
    "        # Hessian matrix\n",
    "        #hessian = torch.zeros(size, 2, 2) # dim = batchsize*2*2\n",
    "        #d2u_dx2 = torch.autograd.grad(du_dx[:, 0], x, grad_outputs=torch.ones_like(du_dx[:, 0]), retain_graph=True)[0][:, 1]\n",
    "        #d2u_dy2 = torch.autograd.grad(du_dx[:, 1], x, grad_outputs=torch.ones_like(du_dx[:, 1]), retain_graph=True)[0][:, 2]\n",
    "        #d2u_dxdy = torch.autograd.grad(du_dx[:, 0], x, grad_outputs=torch.ones_like(du_dx[:, 0]), retain_graph=True)[0][:, 2]\n",
    "        #d2u_dydx = torch.autograd.grad(du_dx[:, 1], x, grad_outputs=torch.ones_like(du_dx[:, 1]), retain_graph=True)[0][:, 1]\n",
    "        #hessian[:, 0, 0] = d2u_dx2\n",
    "        #hessian[:, 1, 1] = d2u_dy2\n",
    "        #hessian[:, 0, 1] = d2u_dxdy\n",
    "        #hessian[:, 1, 0] = d2u_dydx\n",
    "        # Hessian = [[[u_xx, u_xy],\n",
    "        #             [u_yx, u_yy]],\n",
    "        #            [[u_xx, u_xy],\n",
    "        #             [u_yx, u_yy]],\n",
    "        #                  ...     \n",
    "        #            [[u_xx, u_xy],\n",
    "        #             [u_yx, u_yy]]] \n",
    "        hessian = self.get_hes_space(grad,x)\n",
    "        \n",
    "        # Error from the pde\n",
    "        sig2_ext = self.mat_ext(torch.matmul(sig,sig.t()), size) # dim = batchsize*2*2\n",
    "        prod = torch.bmm(sig2_ext,hessian) # sigma*sigma^T*2nd derivatives\n",
    "        trace = torch.diagonal(prod, dim1=1, dim2=2).sum(dim=1).unsqueeze(0).t() # trace, dim = batchsize*1\n",
    "        x_space = x[:,1:].unsqueeze(1).reshape(size,2,1) # extract (x1,x2)^T, dim = batchsize*2*1\n",
    "        x_space_t = x_space.reshape(size,1,2) # dim = batchsize*1*2\n",
    "        du_dx_ext_t = du_dx.unsqueeze(1) # dim=batchsize*1*2\n",
    "        \n",
    "        pde = du_dt+0.5*trace+torch.bmm(du_dx_ext_t,torch.bmm(H,x_space)).squeeze(1)\\\n",
    "                +torch.bmm(du_dx_ext_t,torch.bmm(M,a)).squeeze(1)\\\n",
    "                +torch.bmm(x_space_t,torch.bmm(C,x_space)).squeeze(1)\\\n",
    "                +torch.bmm(a.reshape(size,1,2),torch.bmm(D,a)).squeeze(1) # dim = batchsize*1\n",
    "        \n",
    "        pde_err = loss(pde, torch.zeros(size,1))\n",
    "        \n",
    "        # Error from the boundary condition\n",
    "        x_bound = x_boundary[:,1:].unsqueeze(1).reshape(size,2,1) # extract (x1,x2)^T, dim = batchsize*2*1\n",
    "        x_bound_t = x_bound.reshape(size,1,2) # dim = batchsize*1*2\n",
    "        # boundary = self.net(x_boundary)-torch.bmm(x_bound_t,torch.bmm(R,x_bound)).squeeze(1) # dim = batchsize*1\n",
    "        \n",
    "        boundary_err = loss(self.net(x_boundary), torch.bmm(x_bound_t,torch.bmm(R,x_bound)).squeeze(1))\n",
    "        \n",
    "        return pde_err + boundary_err"
   ]
  },
  {
   "cell_type": "code",
   "execution_count": 6,
   "id": "e1bdae21",
   "metadata": {},
   "outputs": [],
   "source": [
    "class Train():\n",
    "    def __init__(self, net, PDE, BATCH_SIZE):\n",
    "        self.errors = []\n",
    "        self.BATCH_SIZE = BATCH_SIZE\n",
    "        self.net = net\n",
    "        self.model = PDE\n",
    "\n",
    "    def train(self, epoch, lr):\n",
    "        optimizer = optim.Adam(self.net.parameters(), lr) # Import the parameters, lr: learning rate\n",
    "        avg_loss = 0\n",
    "        for e in range(epoch):\n",
    "            optimizer.zero_grad()\n",
    "            loss = self.model.loss_func(self.BATCH_SIZE)\n",
    "            avg_loss = avg_loss + float(loss.item())\n",
    "            loss.backward()\n",
    "            optimizer.step()\n",
    "            if e % 100 == 99:\n",
    "                loss = avg_loss/100\n",
    "                print(\"epoch {} - lr {} - loss: {}\".format(e, lr, loss))\n",
    "                avg_loss = 0\n",
    "\n",
    "                error = self.model.loss_func(self.BATCH_SIZE)\n",
    "                self.errors.append(error.detach())\n",
    "\n",
    "    def get_errors(self):\n",
    "        return self.errors"
   ]
  },
  {
   "cell_type": "code",
   "execution_count": 7,
   "id": "0ec306bf",
   "metadata": {},
   "outputs": [],
   "source": [
    "# Initializing the classes\n",
    "net = DGM_net(in_dim = 3, out_dim = 1, n_layers = 3, n_neurons = 50)\n",
    "x = torch.tensor([0.2,0.8])\n",
    "y = torch.tensor([0.6,1.0])\n",
    "H = torch.tensor([[1.0,0],[0,1.0]])\n",
    "M = torch.tensor([[1.0,0],[0,1.0]])\n",
    "D = torch.tensor([[0.1,0],[0,0.1]])\n",
    "C = torch.tensor([[0.1,0],[0,0.1]])\n",
    "R = torch.tensor([[1.0,0],[0,1.0]])\n",
    "batch_size = 2**10\n",
    "T = 1\n",
    "sigma = torch.tensor([[0.05, 0.05]])\n",
    "#a = torch.tensor([[1.0, 1.0]])\n",
    "a = torch.randn(batch_size, 2, 1)\n",
    "Bellman = Bellman_pde(net, x, y, H, M, C, D, R, T, sigma, a)"
   ]
  },
  {
   "cell_type": "code",
   "execution_count": 8,
   "id": "142f114e",
   "metadata": {
    "scrolled": true
   },
   "outputs": [
    {
     "name": "stdout",
     "output_type": "stream",
     "text": [
      "epoch 99 - lr 0.0001 - loss: 0.4287494167685509\n",
      "epoch 199 - lr 0.0001 - loss: 0.11486532136797906\n",
      "epoch 299 - lr 0.0001 - loss: 0.10316974021494389\n",
      "epoch 399 - lr 0.0001 - loss: 0.1011083610355854\n",
      "epoch 499 - lr 0.0001 - loss: 0.1000500363856554\n",
      "epoch 599 - lr 0.0001 - loss: 0.09954161509871483\n",
      "epoch 699 - lr 0.0001 - loss: 0.0983289884775877\n",
      "epoch 799 - lr 0.0001 - loss: 0.09834523014724254\n",
      "epoch 899 - lr 0.0001 - loss: 0.09787324979901314\n",
      "epoch 999 - lr 0.0001 - loss: 0.09786495514214039\n",
      "epoch 1099 - lr 0.0001 - loss: 0.09748729661107064\n",
      "epoch 1199 - lr 0.0001 - loss: 0.09728579223155975\n",
      "epoch 1299 - lr 0.0001 - loss: 0.09687907032668591\n",
      "epoch 1399 - lr 0.0001 - loss: 0.09713601604104043\n",
      "epoch 1499 - lr 0.0001 - loss: 0.09718463413417339\n",
      "epoch 1599 - lr 0.0001 - loss: 0.09719330720603465\n",
      "epoch 1699 - lr 0.0001 - loss: 0.09686069928109646\n",
      "epoch 1799 - lr 0.0001 - loss: 0.09685704998672008\n",
      "epoch 1899 - lr 0.0001 - loss: 0.09705591194331646\n",
      "epoch 1999 - lr 0.0001 - loss: 0.09700886778533459\n",
      "epoch 2099 - lr 0.0001 - loss: 0.09700512491166592\n",
      "epoch 2199 - lr 0.0001 - loss: 0.09713492281734944\n",
      "epoch 2299 - lr 0.0001 - loss: 0.09690424852073193\n",
      "epoch 2399 - lr 0.0001 - loss: 0.09648739419877529\n",
      "epoch 2499 - lr 0.0001 - loss: 0.09649044506251812\n",
      "epoch 2599 - lr 0.0001 - loss: 0.096564015224576\n",
      "epoch 2699 - lr 0.0001 - loss: 0.09681680910289288\n",
      "epoch 2799 - lr 0.0001 - loss: 0.09643808826804161\n",
      "epoch 2899 - lr 0.0001 - loss: 0.09660292081534863\n",
      "epoch 2999 - lr 0.0001 - loss: 0.09646021284162998\n",
      "epoch 3099 - lr 0.0001 - loss: 0.096758017167449\n",
      "epoch 3199 - lr 0.0001 - loss: 0.09638571694493293\n",
      "epoch 3299 - lr 0.0001 - loss: 0.09627972096204758\n",
      "epoch 3399 - lr 0.0001 - loss: 0.09720668211579322\n",
      "epoch 3499 - lr 0.0001 - loss: 0.09674769476056098\n",
      "epoch 3599 - lr 0.0001 - loss: 0.0966405887901783\n",
      "epoch 3699 - lr 0.0001 - loss: 0.09641089200973511\n",
      "epoch 3799 - lr 0.0001 - loss: 0.09642821475863457\n",
      "epoch 3899 - lr 0.0001 - loss: 0.09669765077531338\n",
      "epoch 3999 - lr 0.0001 - loss: 0.09646978877484798\n",
      "epoch 4099 - lr 0.0001 - loss: 0.09656188428401948\n",
      "epoch 4199 - lr 0.0001 - loss: 0.09659008428454399\n",
      "epoch 4299 - lr 0.0001 - loss: 0.09638871856033802\n",
      "epoch 4399 - lr 0.0001 - loss: 0.09632111452519894\n",
      "epoch 4499 - lr 0.0001 - loss: 0.09611919142305851\n",
      "epoch 4599 - lr 0.0001 - loss: 0.0962787065654993\n",
      "epoch 4699 - lr 0.0001 - loss: 0.09627737559378147\n",
      "epoch 4799 - lr 0.0001 - loss: 0.09659682579338551\n",
      "epoch 4899 - lr 0.0001 - loss: 0.0963718480616808\n",
      "epoch 4999 - lr 0.0001 - loss: 0.09647062659263611\n",
      "epoch 5099 - lr 0.0001 - loss: 0.09588170945644378\n",
      "epoch 5199 - lr 0.0001 - loss: 0.096350072696805\n",
      "epoch 5299 - lr 0.0001 - loss: 0.09649480171501637\n",
      "epoch 5399 - lr 0.0001 - loss: 0.09670382991433144\n",
      "epoch 5499 - lr 0.0001 - loss: 0.09625894255936146\n",
      "epoch 5599 - lr 0.0001 - loss: 0.09602991059422493\n",
      "epoch 5699 - lr 0.0001 - loss: 0.09639968536794186\n",
      "epoch 5799 - lr 0.0001 - loss: 0.09642191246151924\n",
      "epoch 5899 - lr 0.0001 - loss: 0.09631254807114602\n",
      "epoch 5999 - lr 0.0001 - loss: 0.09612597838044167\n",
      "epoch 6099 - lr 0.0001 - loss: 0.09661117047071457\n",
      "epoch 6199 - lr 0.0001 - loss: 0.09654493905603885\n",
      "epoch 6299 - lr 0.0001 - loss: 0.09592770017683507\n",
      "epoch 6399 - lr 0.0001 - loss: 0.09626162894070149\n",
      "epoch 6499 - lr 0.0001 - loss: 0.09665868178009987\n",
      "epoch 6599 - lr 0.0001 - loss: 0.09588294759392739\n",
      "epoch 6699 - lr 0.0001 - loss: 0.096660196185112\n",
      "epoch 6799 - lr 0.0001 - loss: 0.09588053926825524\n",
      "epoch 6899 - lr 0.0001 - loss: 0.09666587583720684\n",
      "epoch 6999 - lr 0.0001 - loss: 0.09638689450919628\n",
      "epoch 7099 - lr 0.0001 - loss: 0.09638942532241344\n",
      "epoch 7199 - lr 0.0001 - loss: 0.09614435456693173\n",
      "epoch 7299 - lr 0.0001 - loss: 0.09607810452580452\n",
      "epoch 7399 - lr 0.0001 - loss: 0.0963566967844963\n",
      "epoch 7499 - lr 0.0001 - loss: 0.09655360572040081\n",
      "epoch 7599 - lr 0.0001 - loss: 0.09657167240977288\n",
      "epoch 7699 - lr 0.0001 - loss: 0.09573450721800328\n",
      "epoch 7799 - lr 0.0001 - loss: 0.09605031788349151\n",
      "epoch 7899 - lr 0.0001 - loss: 0.09633443392813205\n",
      "epoch 7999 - lr 0.0001 - loss: 0.09639149881899357\n",
      "epoch 8099 - lr 0.0001 - loss: 0.09629190176725387\n",
      "epoch 8199 - lr 0.0001 - loss: 0.09625397481024266\n",
      "epoch 8299 - lr 0.0001 - loss: 0.09602372325956822\n",
      "epoch 8399 - lr 0.0001 - loss: 0.09627063952386379\n",
      "epoch 8499 - lr 0.0001 - loss: 0.09630703791975975\n",
      "epoch 8599 - lr 0.0001 - loss: 0.09583430781960488\n",
      "epoch 8699 - lr 0.0001 - loss: 0.09633169740438462\n",
      "epoch 8799 - lr 0.0001 - loss: 0.095811857432127\n",
      "epoch 8899 - lr 0.0001 - loss: 0.09608883030712605\n",
      "epoch 8999 - lr 0.0001 - loss: 0.09583912752568721\n",
      "epoch 9099 - lr 0.0001 - loss: 0.09622331753373146\n",
      "epoch 9199 - lr 0.0001 - loss: 0.09576538100838661\n",
      "epoch 9299 - lr 0.0001 - loss: 0.09663861259818077\n",
      "epoch 9399 - lr 0.0001 - loss: 0.09592681556940079\n",
      "epoch 9499 - lr 0.0001 - loss: 0.09605188608169556\n",
      "epoch 9599 - lr 0.0001 - loss: 0.09676345825195312\n",
      "epoch 9699 - lr 0.0001 - loss: 0.09569979064166546\n",
      "epoch 9799 - lr 0.0001 - loss: 0.09613193958997726\n",
      "epoch 9899 - lr 0.0001 - loss: 0.09653923243284225\n",
      "epoch 9999 - lr 0.0001 - loss: 0.09624584503471852\n"
     ]
    }
   ],
   "source": [
    "# Training\n",
    "train = Train(net, Bellman, BATCH_SIZE=batch_size)\n",
    "train.train(epoch=10**4, lr=0.0001)\n",
    "torch.save(net, 'net_model.pkl')\n",
    "errors = train.get_errors()"
   ]
  },
  {
   "cell_type": "code",
   "execution_count": 9,
   "id": "c643a7d3",
   "metadata": {
    "scrolled": true
   },
   "outputs": [
    {
     "data": {
      "image/png": "[encoded data removed]",
      "text/plain": [
       "<Figure size 640x480 with 1 Axes>"
      ]
     },
     "metadata": {},
     "output_type": "display_data"
    }
   ],
   "source": [
    "# Plot errors\n",
    "fig = plt.figure()\n",
    "plt.plot(np.log(errors), color = 'dodgerblue', label='Errors')\n",
    "plt.title('Training Loss', fontsize=10)\n",
    "plt.xlabel('Number of training epochs')\n",
    "plt.ylabel('Loss (log)')\n",
    "plt.show()"
   ]
  },
  {
   "cell_type": "code",
   "execution_count": 10,
   "id": "1fcd07eb",
   "metadata": {
    "scrolled": true
   },
   "outputs": [
    {
     "name": "stdout",
     "output_type": "stream",
     "text": [
      "[[1.1032223]\n",
      " [0.9764728]]\n"
     ]
    }
   ],
   "source": [
    "net = torch.load('net_model.pkl')\n",
    "ind = torch.Tensor([[0.5,0.5,0.8],[1,1,1]])\n",
    "Zda = net(ind).detach().cpu().numpy()\n",
    "print(Zda)"
   ]
  },
  {
   "cell_type": "code",
   "execution_count": 11,
   "id": "b0950917",
   "metadata": {},
   "outputs": [],
   "source": [
    "import scipy.integrate as integrate\n",
    "import math\n",
    "def integrand(t):\n",
    "    res = 1/10*((10*(2**(1/2))+11)*math.exp(2*(2**(1/2))*(1-t))+10*2**(1/2)-11)\\\n",
    "           /((2**(1/2)+9)*math.exp(2*(2**(1/2))*(1-t))+2**(1/2)-9)\n",
    "    return res\n",
    "result = integrate.quad(lambda x: integrand(x), 0.5, 1.0)"
   ]
  },
  {
   "cell_type": "code",
   "execution_count": 12,
   "id": "808a3532",
   "metadata": {},
   "outputs": [
    {
     "name": "stdout",
     "output_type": "stream",
     "text": [
      "(0.2315651635082677, 1.6141170912431694e-09)\n"
     ]
    }
   ],
   "source": [
    "print(result)"
   ]
  },
  {
   "cell_type": "code",
   "execution_count": 13,
   "id": "30b2971a",
   "metadata": {},
   "outputs": [
    {
     "name": "stdout",
     "output_type": "stream",
     "text": [
      "0.2806147275379891\n"
     ]
    }
   ],
   "source": [
    "print(integrand(0.5)*(0.5**2+0.8**2)+0.05*result[0])"
   ]
  },
  {
   "cell_type": "code",
   "execution_count": 14,
   "id": "8c45fd62",
   "metadata": {},
   "outputs": [],
   "source": [
    "def value_analytical(x):\n",
    "    val = torch.zeros(len(x),1)\n",
    "    for i in range(len(x)):\n",
    "        val[i] = integrand(x[i,0])*(x[i,1]**2+x[i,2]**2)+0.05*integrate.quad(lambda r: integrand(r), x[i,0].item(), 1.0)[0]\n",
    "    return val"
   ]
  },
  {
   "cell_type": "code",
   "execution_count": 15,
   "id": "52d7950c",
   "metadata": {},
   "outputs": [
    {
     "name": "stdout",
     "output_type": "stream",
     "text": [
      "tensor([[0.2806],\n",
      "        [2.0000]])\n"
     ]
    }
   ],
   "source": [
    "print(value_analytical(torch.Tensor([[0.5,0.5,0.8],[1,1,1]])))"
   ]
  }
 ],
 "metadata": {
  "kernelspec": {
   "display_name": "Python 3.9.16 ('scdaa')",
   "language": "python",
   "name": "python3"
  },
  "language_info": {
   "codemirror_mode": {
    "name": "ipython",
    "version": 3
   },
   "file_extension": ".py",
   "mimetype": "text/x-python",
   "name": "python",
   "nbconvert_exporter": "python",
   "pygments_lexer": "ipython3",
   "version": "3.9.16"
  },
  "vscode": {
   "interpreter": {
    "hash": "6f442474ecb6cb4d47a45fad352f0260b3613c1f0ac045025b6964e2c7f48e00"
   }
  }
 },
 "nbformat": 4,
 "nbformat_minor": 5
}
